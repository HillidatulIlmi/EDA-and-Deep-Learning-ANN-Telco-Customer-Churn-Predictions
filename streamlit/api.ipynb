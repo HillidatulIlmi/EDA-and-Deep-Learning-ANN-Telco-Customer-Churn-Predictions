{
 "cells": [
  {
   "cell_type": "code",
   "execution_count": 1,
   "metadata": {},
   "outputs": [],
   "source": [
    "new_data = [[-0.0576983959621587,\n",
    "  -1.4712528970126508,\n",
    "  -0.7261673348348113,\n",
    "  1.0,\n",
    "  0.0,\n",
    "  1.0,\n",
    "  0.0,\n",
    "  1.0,\n",
    "  0.0,\n",
    "  0.0,\n",
    "  1.0,\n",
    "  0.0,\n",
    "  0.0,\n",
    "  1.0,\n",
    "  0.0,\n",
    "  0.0,\n",
    "  1.0,\n",
    "  0.0,\n",
    "  0.0,\n",
    "  1.0,\n",
    "  0.0,\n",
    "  0.0,\n",
    "  0.0,\n",
    "  1.0,\n",
    "  1.0,\n",
    "  0.0],\n",
    " [-0.6267638178959762,\n",
    "  -0.2899648469986629,\n",
    "  -0.5904021306405628,\n",
    "  1.0,\n",
    "  0.0,\n",
    "  1.0,\n",
    "  0.0,\n",
    "  1.0,\n",
    "  0.0,\n",
    "  0.0,\n",
    "  0.0,\n",
    "  1.0,\n",
    "  0.0,\n",
    "  0.0,\n",
    "  1.0,\n",
    "  1.0,\n",
    "  0.0,\n",
    "  0.0,\n",
    "  1.0,\n",
    "  0.0,\n",
    "  0.0,\n",
    "  0.0,\n",
    "  1.0,\n",
    "  0.0,\n",
    "  1.0,\n",
    "  0.0],\n",
    " [0.3487769054191396,\n",
    "  -1.502731821206572,\n",
    "  -0.6558855097712193,\n",
    "  1.0,\n",
    "  0.0,\n",
    "  0.0,\n",
    "  1.0,\n",
    "  0.0,\n",
    "  1.0,\n",
    "  0.0,\n",
    "  1.0,\n",
    "  0.0,\n",
    "  0.0,\n",
    "  1.0,\n",
    "  0.0,\n",
    "  0.0,\n",
    "  1.0,\n",
    "  0.0,\n",
    "  0.0,\n",
    "  1.0,\n",
    "  0.0,\n",
    "  0.0,\n",
    "  1.0,\n",
    "  0.0,\n",
    "  1.0,\n",
    "  0.0]]"
   ]
  },
  {
   "cell_type": "code",
   "execution_count": 2,
   "metadata": {},
   "outputs": [],
   "source": [
    "import json\n",
    "\n",
    "input_data_json = json.dumps({\n",
    "    'signature_name':'serving_default',\n",
    "    'instances': new_data\n",
    "})"
   ]
  },
  {
   "cell_type": "code",
   "execution_count": 3,
   "metadata": {},
   "outputs": [
    {
     "data": {
      "text/plain": [
       "{'predictions': [[0.0447248816], [0.112078607], [0.0245850384]]}"
      ]
     },
     "execution_count": 3,
     "metadata": {},
     "output_type": "execute_result"
    }
   ],
   "source": [
    "import requests\n",
    "\n",
    "URL = \"https://backend-churn-ilmi.herokuapp.com/v1/models/churn:predict\"\n",
    "r = requests.post(URL, data=input_data_json)\n",
    "result =r.json()\n",
    "result"
   ]
  }
 ],
 "metadata": {
  "kernelspec": {
   "display_name": "Python 3.9.12 ('base')",
   "language": "python",
   "name": "python3"
  },
  "language_info": {
   "codemirror_mode": {
    "name": "ipython",
    "version": 3
   },
   "file_extension": ".py",
   "mimetype": "text/x-python",
   "name": "python",
   "nbconvert_exporter": "python",
   "pygments_lexer": "ipython3",
   "version": "3.9.12"
  },
  "orig_nbformat": 4,
  "vscode": {
   "interpreter": {
    "hash": "a81b2d6e84f3c5cd14f16e8350beaef38352aa02e60c0b7188c4411bd6af4aa9"
   }
  }
 },
 "nbformat": 4,
 "nbformat_minor": 2
}
